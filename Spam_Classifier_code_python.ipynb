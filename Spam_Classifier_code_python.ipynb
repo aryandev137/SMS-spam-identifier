{
 "cells": [
  {
   "cell_type": "markdown",
   "metadata": {},
   "source": [
    "# Imports"
   ]
  },
  {
   "cell_type": "code",
   "execution_count": 1,
   "metadata": {},
   "outputs": [],
   "source": [
    "import os\n",
    "import pandas as pd\n",
    "import numpy as np\n",
    "\n",
    "import sklearn\n",
    "from sklearn.model_selection import train_test_split\n",
    "from sklearn.feature_extraction.text import CountVectorizer\n",
    "from sklearn.feature_extraction.text import TfidfVectorizer\n",
    "from sklearn.naive_bayes import MultinomialNB\n",
    "from sklearn.metrics import roc_auc_score\n",
    "from sklearn.svm import SVC"
   ]
  },
  {
   "cell_type": "code",
   "execution_count": 2,
   "metadata": {},
   "outputs": [
    {
     "name": "stdout",
     "output_type": "stream",
     "text": [
      "(5571, 2)\n"
     ]
    },
    {
     "data": {
      "text/html": [
       "<div>\n",
       "<style scoped>\n",
       "    .dataframe tbody tr th:only-of-type {\n",
       "        vertical-align: middle;\n",
       "    }\n",
       "\n",
       "    .dataframe tbody tr th {\n",
       "        vertical-align: top;\n",
       "    }\n",
       "\n",
       "    .dataframe thead th {\n",
       "        text-align: right;\n",
       "    }\n",
       "</style>\n",
       "<table border=\"1\" class=\"dataframe\">\n",
       "  <thead>\n",
       "    <tr style=\"text-align: right;\">\n",
       "      <th></th>\n",
       "      <th>spamorham</th>\n",
       "      <th>text</th>\n",
       "    </tr>\n",
       "  </thead>\n",
       "  <tbody>\n",
       "    <tr>\n",
       "      <th>0</th>\n",
       "      <td>ham</td>\n",
       "      <td>Ok lar... Joking wif u oni...</td>\n",
       "    </tr>\n",
       "    <tr>\n",
       "      <th>1</th>\n",
       "      <td>spam</td>\n",
       "      <td>Free entry in 2 a wkly comp to win FA Cup fina...</td>\n",
       "    </tr>\n",
       "    <tr>\n",
       "      <th>2</th>\n",
       "      <td>ham</td>\n",
       "      <td>U dun say so early hor... U c already then say...</td>\n",
       "    </tr>\n",
       "    <tr>\n",
       "      <th>3</th>\n",
       "      <td>ham</td>\n",
       "      <td>Nah I don't think he goes to usf, he lives aro...</td>\n",
       "    </tr>\n",
       "    <tr>\n",
       "      <th>4</th>\n",
       "      <td>spam</td>\n",
       "      <td>FreeMsg Hey there darling it's been 3 week's n...</td>\n",
       "    </tr>\n",
       "    <tr>\n",
       "      <th>5</th>\n",
       "      <td>ham</td>\n",
       "      <td>Even my brother is not like to speak with me. ...</td>\n",
       "    </tr>\n",
       "    <tr>\n",
       "      <th>6</th>\n",
       "      <td>ham</td>\n",
       "      <td>As per your request 'Melle Melle (Oru Minnamin...</td>\n",
       "    </tr>\n",
       "    <tr>\n",
       "      <th>7</th>\n",
       "      <td>spam</td>\n",
       "      <td>WINNER!! As a valued network customer you have...</td>\n",
       "    </tr>\n",
       "    <tr>\n",
       "      <th>8</th>\n",
       "      <td>spam</td>\n",
       "      <td>Had your mobile 11 months or more? U R entitle...</td>\n",
       "    </tr>\n",
       "    <tr>\n",
       "      <th>9</th>\n",
       "      <td>ham</td>\n",
       "      <td>I'm gonna be home soon and i don't want to tal...</td>\n",
       "    </tr>\n",
       "  </tbody>\n",
       "</table>\n",
       "</div>"
      ],
      "text/plain": [
       "  spamorham                                               text\n",
       "0       ham                      Ok lar... Joking wif u oni...\n",
       "1      spam  Free entry in 2 a wkly comp to win FA Cup fina...\n",
       "2       ham  U dun say so early hor... U c already then say...\n",
       "3       ham  Nah I don't think he goes to usf, he lives aro...\n",
       "4      spam  FreeMsg Hey there darling it's been 3 week's n...\n",
       "5       ham  Even my brother is not like to speak with me. ...\n",
       "6       ham  As per your request 'Melle Melle (Oru Minnamin...\n",
       "7      spam  WINNER!! As a valued network customer you have...\n",
       "8      spam  Had your mobile 11 months or more? U R entitle...\n",
       "9       ham  I'm gonna be home soon and i don't want to tal..."
      ]
     },
     "execution_count": 2,
     "metadata": {},
     "output_type": "execute_result"
    }
   ],
   "source": [
    "#initial data set\n",
    "spam = pd.read_csv(\"SMSSpamCollection.csv\", header=0, names=['spamorham', 'text'])\n",
    "print(spam.shape)\n",
    "spam.head(10)"
   ]
  },
  {
   "cell_type": "markdown",
   "metadata": {},
   "source": [
    "# Data Preprocessing"
   ]
  },
  {
   "cell_type": "code",
   "execution_count": 3,
   "metadata": {
    "scrolled": true
   },
   "outputs": [
    {
     "data": {
      "text/html": [
       "<div>\n",
       "<style scoped>\n",
       "    .dataframe tbody tr th:only-of-type {\n",
       "        vertical-align: middle;\n",
       "    }\n",
       "\n",
       "    .dataframe tbody tr th {\n",
       "        vertical-align: top;\n",
       "    }\n",
       "\n",
       "    .dataframe thead th {\n",
       "        text-align: right;\n",
       "    }\n",
       "</style>\n",
       "<table border=\"1\" class=\"dataframe\">\n",
       "  <thead>\n",
       "    <tr style=\"text-align: right;\">\n",
       "      <th></th>\n",
       "      <th>text</th>\n",
       "      <th>target</th>\n",
       "    </tr>\n",
       "  </thead>\n",
       "  <tbody>\n",
       "    <tr>\n",
       "      <th>0</th>\n",
       "      <td>Ok lar... Joking wif u oni...</td>\n",
       "      <td>0</td>\n",
       "    </tr>\n",
       "    <tr>\n",
       "      <th>1</th>\n",
       "      <td>Free entry in 2 a wkly comp to win FA Cup fina...</td>\n",
       "      <td>1</td>\n",
       "    </tr>\n",
       "    <tr>\n",
       "      <th>2</th>\n",
       "      <td>U dun say so early hor... U c already then say...</td>\n",
       "      <td>0</td>\n",
       "    </tr>\n",
       "    <tr>\n",
       "      <th>3</th>\n",
       "      <td>Nah I don't think he goes to usf, he lives aro...</td>\n",
       "      <td>0</td>\n",
       "    </tr>\n",
       "    <tr>\n",
       "      <th>4</th>\n",
       "      <td>FreeMsg Hey there darling it's been 3 week's n...</td>\n",
       "      <td>1</td>\n",
       "    </tr>\n",
       "    <tr>\n",
       "      <th>5</th>\n",
       "      <td>Even my brother is not like to speak with me. ...</td>\n",
       "      <td>0</td>\n",
       "    </tr>\n",
       "    <tr>\n",
       "      <th>6</th>\n",
       "      <td>As per your request 'Melle Melle (Oru Minnamin...</td>\n",
       "      <td>0</td>\n",
       "    </tr>\n",
       "    <tr>\n",
       "      <th>7</th>\n",
       "      <td>WINNER!! As a valued network customer you have...</td>\n",
       "      <td>1</td>\n",
       "    </tr>\n",
       "    <tr>\n",
       "      <th>8</th>\n",
       "      <td>Had your mobile 11 months or more? U R entitle...</td>\n",
       "      <td>1</td>\n",
       "    </tr>\n",
       "    <tr>\n",
       "      <th>9</th>\n",
       "      <td>I'm gonna be home soon and i don't want to tal...</td>\n",
       "      <td>0</td>\n",
       "    </tr>\n",
       "  </tbody>\n",
       "</table>\n",
       "</div>"
      ],
      "text/plain": [
       "                                                text  target\n",
       "0                      Ok lar... Joking wif u oni...       0\n",
       "1  Free entry in 2 a wkly comp to win FA Cup fina...       1\n",
       "2  U dun say so early hor... U c already then say...       0\n",
       "3  Nah I don't think he goes to usf, he lives aro...       0\n",
       "4  FreeMsg Hey there darling it's been 3 week's n...       1\n",
       "5  Even my brother is not like to speak with me. ...       0\n",
       "6  As per your request 'Melle Melle (Oru Minnamin...       0\n",
       "7  WINNER!! As a valued network customer you have...       1\n",
       "8  Had your mobile 11 months or more? U R entitle...       1\n",
       "9  I'm gonna be home soon and i don't want to tal...       0"
      ]
     },
     "execution_count": 3,
     "metadata": {},
     "output_type": "execute_result"
    }
   ],
   "source": [
    "#creating a target col, with 0 for ham, 1 for spam\n",
    "df = spam.drop(columns=\"spamorham\")\n",
    "df[\"spam\"] = spam[\"spamorham\"].apply(lambda x:1 if 'spam' in str(x)\n",
    "                                  else 0)\n",
    "df.columns=['text','target']\n",
    "df.head(10)"
   ]
  },
  {
   "cell_type": "markdown",
   "metadata": {},
   "source": [
    "# Exploratory Data Analysis\n",
    "13.409% are spam"
   ]
  },
  {
   "cell_type": "code",
   "execution_count": 4,
   "metadata": {},
   "outputs": [
    {
     "data": {
      "text/plain": [
       "13.408723747980615"
      ]
     },
     "execution_count": 4,
     "metadata": {},
     "output_type": "execute_result"
    }
   ],
   "source": [
    "df['target'].mean()*100"
   ]
  },
  {
   "cell_type": "code",
   "execution_count": 5,
   "metadata": {},
   "outputs": [
    {
     "name": "stdout",
     "output_type": "stream",
     "text": [
      "df_s.head(5)\n",
      "                                                 text  target  len\n",
      "1   Free entry in 2 a wkly comp to win FA Cup fina...       1  155\n",
      "4   FreeMsg Hey there darling it's been 3 week's n...       1  148\n",
      "7   WINNER!! As a valued network customer you have...       1  158\n",
      "8   Had your mobile 11 months or more? U R entitle...       1  154\n",
      "10  SIX chances to win CASH! From 100 to 20,000 po...       1  136\n",
      "\n",
      "\n",
      "df_ns.head(5)\n",
      "                                                text  target  len\n",
      "0                      Ok lar... Joking wif u oni...       0   29\n",
      "2  U dun say so early hor... U c already then say...       0   49\n",
      "3  Nah I don't think he goes to usf, he lives aro...       0   61\n",
      "5  Even my brother is not like to speak with me. ...       0   77\n",
      "6  As per your request 'Melle Melle (Oru Minnamin...       0  160\n"
     ]
    },
    {
     "name": "stderr",
     "output_type": "stream",
     "text": [
      "C:\\Users\\Dehan\\anaconda3\\lib\\site-packages\\ipykernel_launcher.py:5: SettingWithCopyWarning: \n",
      "A value is trying to be set on a copy of a slice from a DataFrame.\n",
      "Try using .loc[row_indexer,col_indexer] = value instead\n",
      "\n",
      "See the caveats in the documentation: https://pandas.pydata.org/pandas-docs/stable/user_guide/indexing.html#returning-a-view-versus-a-copy\n",
      "  \"\"\"\n",
      "C:\\Users\\Dehan\\anaconda3\\lib\\site-packages\\ipykernel_launcher.py:11: SettingWithCopyWarning: \n",
      "A value is trying to be set on a copy of a slice from a DataFrame.\n",
      "Try using .loc[row_indexer,col_indexer] = value instead\n",
      "\n",
      "See the caveats in the documentation: https://pandas.pydata.org/pandas-docs/stable/user_guide/indexing.html#returning-a-view-versus-a-copy\n",
      "  # This is added back by InteractiveShellApp.init_path()\n"
     ]
    }
   ],
   "source": [
    "#creating two seperate dfs: 1 for spam and 1 for non spam messages only\n",
    "df_s = df.loc[ df['target']==1]\n",
    "df_ns = df.loc[ df['target']==0]\n",
    "    \n",
    "df_s['len'] = [len(x) for x in df_s[\"text\"]]\n",
    "spamavg = df_s.len.mean()\n",
    "print('df_s.head(5)')\n",
    "print(df_s.head(5))\n",
    "\n",
    "print('\\n\\ndf_ns.head(5)')\n",
    "df_ns['len'] = [len(x) for x in df_ns[\"text\"]]\n",
    "nonspamavg = df_ns.len.mean()\n",
    "print(df_ns.head(5))"
   ]
  },
  {
   "cell_type": "code",
   "execution_count": 6,
   "metadata": {},
   "outputs": [
    {
     "data": {
      "text/plain": [
       "139.11914323962517"
      ]
     },
     "execution_count": 6,
     "metadata": {},
     "output_type": "execute_result"
    }
   ],
   "source": [
    "spamavg"
   ]
  },
  {
   "cell_type": "code",
   "execution_count": 7,
   "metadata": {},
   "outputs": [
    {
     "data": {
      "text/plain": [
       "71.55078772802653"
      ]
     },
     "execution_count": 7,
     "metadata": {},
     "output_type": "execute_result"
    }
   ],
   "source": [
    "nonspamavg"
   ]
  },
  {
   "cell_type": "code",
   "execution_count": 8,
   "metadata": {},
   "outputs": [
    {
     "name": "stdout",
     "output_type": "stream",
     "text": [
      "0.30534825870646765 15.812583668005354\n",
      "                                                text  target  length\n",
      "0                      Ok lar... Joking wif u oni...       0       0\n",
      "1  Free entry in 2 a wkly comp to win FA Cup fina...       1      25\n",
      "2  U dun say so early hor... U c already then say...       0       0\n",
      "3  Nah I don't think he goes to usf, he lives aro...       0       0\n",
      "4  FreeMsg Hey there darling it's been 3 week's n...       1       4\n",
      "5  Even my brother is not like to speak with me. ...       0       0\n",
      "6  As per your request 'Melle Melle (Oru Minnamin...       0       1\n",
      "7  WINNER!! As a valued network customer you have...       1      19\n",
      "8  Had your mobile 11 months or more? U R entitle...       1      13\n",
      "9  I'm gonna be home soon and i don't want to tal...       0       0\n"
     ]
    }
   ],
   "source": [
    "df['length'] = df['text'].apply(lambda x: len(''.join([a for a in x if a.isdigit()])))\n",
    "\n",
    "print(np.mean(df['length'][df['target'] == 0]), np.mean(df['length'][df['target'] == 1]))\n",
    "\n",
    "print(df.head(10))"
   ]
  },
  {
   "cell_type": "markdown",
   "metadata": {},
   "source": [
    "# Data Modelling\n",
    "### MNNB Model Fitting 1"
   ]
  },
  {
   "cell_type": "code",
   "execution_count": 9,
   "metadata": {},
   "outputs": [],
   "source": [
    "#train test split\n",
    "X_train, X_test, y_train, y_test = train_test_split(df['text'], \n",
    "                                                    df['target'], \n",
    "                                                    random_state=0)"
   ]
  },
  {
   "cell_type": "code",
   "execution_count": 10,
   "metadata": {},
   "outputs": [],
   "source": [
    "#fitting and transforming X_train using a Count Vectorizer with default parameters\n",
    "vect = CountVectorizer().fit(X_train)\n",
    "X_train_vectorized = vect.transform(X_train)"
   ]
  },
  {
   "cell_type": "code",
   "execution_count": 11,
   "metadata": {},
   "outputs": [
    {
     "data": {
      "text/plain": [
       "CountVectorizer(analyzer='word', binary=False, decode_error='strict',\n",
       "                dtype=<class 'numpy.int64'>, encoding='utf-8', input='content',\n",
       "                lowercase=True, max_df=1.0, max_features=None, min_df=1,\n",
       "                ngram_range=(1, 1), preprocessor=None, stop_words=None,\n",
       "                strip_accents=None, token_pattern='(?u)\\\\b\\\\w\\\\w+\\\\b',\n",
       "                tokenizer=None, vocabulary=None)"
      ]
     },
     "execution_count": 11,
     "metadata": {},
     "output_type": "execute_result"
    }
   ],
   "source": [
    "vect"
   ]
  },
  {
   "cell_type": "code",
   "execution_count": 12,
   "metadata": {},
   "outputs": [
    {
     "data": {
      "text/plain": [
       "<4178x7416 sparse matrix of type '<class 'numpy.int64'>'\n",
       "\twith 55415 stored elements in Compressed Sparse Row format>"
      ]
     },
     "execution_count": 12,
     "metadata": {},
     "output_type": "execute_result"
    }
   ],
   "source": [
    "X_train_vectorized"
   ]
  },
  {
   "cell_type": "code",
   "execution_count": 13,
   "metadata": {},
   "outputs": [],
   "source": [
    "#fitting a multinomial Naive Bayes Classifier Model with smoothing alpha=0.1\n",
    "model = sklearn.naive_bayes.MultinomialNB(alpha=0.1)\n",
    "model_fit = model.fit(X_train_vectorized, y_train)"
   ]
  },
  {
   "cell_type": "code",
   "execution_count": 14,
   "metadata": {},
   "outputs": [
    {
     "data": {
      "text/plain": [
       "0.9615532083312719"
      ]
     },
     "execution_count": 14,
     "metadata": {},
     "output_type": "execute_result"
    }
   ],
   "source": [
    "#making predictions & looking at AUC score\n",
    "predictions = model.predict(vect.transform(X_test))\n",
    "aucscore = roc_auc_score(y_test, predictions) #good!\n",
    "aucscore"
   ]
  },
  {
   "cell_type": "code",
   "execution_count": 15,
   "metadata": {},
   "outputs": [
    {
     "name": "stdout",
     "output_type": "stream",
     "text": [
      "             Predicted Spam  Predicted Ham\n",
      "Actual Spam            1185              4\n",
      "Actual Ham               15            189\n",
      "\n",
      "True Positives: 189\n",
      "False Positives: 4\n",
      "True Negatives: 1185\n",
      "False Negatives: 15\n",
      "\n",
      "True Positive Rate: 0.9264705882352942\n",
      "Specificity: 0.9966358284272497\n",
      "False Positive Rate: 0.00336417157275021\n"
     ]
    }
   ],
   "source": [
    "#confusion matrix\n",
    "from sklearn.metrics import confusion_matrix\n",
    "tn, fp, fn, tp = confusion_matrix(y_test, predictions).ravel()\n",
    "print(pd.DataFrame(confusion_matrix(y_test, predictions),\n",
    "             columns=['Predicted Spam', \"Predicted Ham\"], index=['Actual Spam', 'Actual Ham']))\n",
    "\n",
    "print(f'\\nTrue Positives: {tp}')\n",
    "print(f'False Positives: {fp}')\n",
    "print(f'True Negatives: {tn}')\n",
    "print(f'False Negatives: {fn}')\n",
    "\n",
    "print(f'\\nTrue Positive Rate: { (tp / (tp + fn))}')\n",
    "print(f'Specificity: { (tn / (tn + fp))}')\n",
    "print(f'False Positive Rate: { (fp / (fp + tn))}')"
   ]
  },
  {
   "cell_type": "markdown",
   "metadata": {},
   "source": [
    "### MNNB Model Fitting 2"
   ]
  },
  {
   "cell_type": "code",
   "execution_count": 16,
   "metadata": {},
   "outputs": [],
   "source": [
    "# fitting and transforming X_train using a tfid vectorizer, ignoring terms with a document frequency lower than 3.\n",
    "vect = TfidfVectorizer(min_df=3).fit(X_train)\n",
    "X_train_vectorized = vect.transform(X_train)"
   ]
  },
  {
   "cell_type": "code",
   "execution_count": 17,
   "metadata": {},
   "outputs": [],
   "source": [
    "# fitting training data to a multinomial NB model\n",
    "model = sklearn.naive_bayes.MultinomialNB()\n",
    "model_fit = model.fit(X_train_vectorized, y_train) "
   ]
  },
  {
   "cell_type": "code",
   "execution_count": 18,
   "metadata": {},
   "outputs": [
    {
     "data": {
      "text/plain": [
       "(0            lift\n",
       " 1        storming\n",
       " 2       grahmbell\n",
       " 3        telphone\n",
       " 4         invnted\n",
       " 5        margaret\n",
       " 6            4get\n",
       " 7              wt\n",
       " 8            phne\n",
       " 9           moral\n",
       " 10            7th\n",
       " 11            5th\n",
       " 12    personality\n",
       " 13            6th\n",
       " 14        wonders\n",
       " 15            3rd\n",
       " 16          36504\n",
       " 17        showing\n",
       " 18     100percent\n",
       " 19        genuine\n",
       " dtype: object,\n",
       " 0       those\n",
       " 1        nite\n",
       " 2     anytime\n",
       " 3       right\n",
       " 4     towards\n",
       " 5       space\n",
       " 6        okie\n",
       " 7          or\n",
       " 8         too\n",
       " 9        type\n",
       " 10         ok\n",
       " 11      staff\n",
       " 12        out\n",
       " 13     alrite\n",
       " 14     unsold\n",
       " 15        say\n",
       " 16        sad\n",
       " 17       none\n",
       " 18         he\n",
       " 19      thanx\n",
       " dtype: object)"
      ]
     },
     "execution_count": 18,
     "metadata": {},
     "output_type": "execute_result"
    }
   ],
   "source": [
    "#looking at model features\n",
    "feature_names = np.array(vect.get_feature_names())\n",
    "sorted_tfidf_index = X_train_vectorized.max(0).toarray()[0].argsort()\n",
    "((pd.Series(feature_names[sorted_tfidf_index[:20]]),\n",
    "            pd.Series(feature_names[sorted_tfidf_index[-21:-1]])))"
   ]
  },
  {
   "cell_type": "code",
   "execution_count": 19,
   "metadata": {},
   "outputs": [
    {
     "name": "stdout",
     "output_type": "stream",
     "text": [
      "0.9166666666666667\n"
     ]
    }
   ],
   "source": [
    "#making predictions\n",
    "predictions = model_fit.predict(vect.transform(X_test))\n",
    "aucscore = roc_auc_score(y_test, predictions)\n",
    "print(aucscore)"
   ]
  },
  {
   "cell_type": "code",
   "execution_count": 20,
   "metadata": {},
   "outputs": [
    {
     "name": "stdout",
     "output_type": "stream",
     "text": [
      "             Predicted Spam  Predicted Ham\n",
      "Actual Spam            1189              0\n",
      "Actual Ham               34            170\n",
      "\n",
      "True Positives: 170\n",
      "False Positives: 0\n",
      "True Negatives: 1189\n",
      "False Negatives: 34\n",
      "True Positive Rate: 0.8333333333333334\n",
      "Specificity: 1.0\n",
      "False Positive Rate: 0.0\n"
     ]
    }
   ],
   "source": [
    "#confusion matrix\n",
    "from sklearn.metrics import confusion_matrix\n",
    "tn, fp, fn, tp = confusion_matrix(y_test, predictions).ravel()\n",
    "print(pd.DataFrame(confusion_matrix(y_test, predictions),\n",
    "             columns=['Predicted Spam', \"Predicted Ham\"], index=['Actual Spam', 'Actual Ham']))\n",
    "print(f'\\nTrue Positives: {tp}')\n",
    "print(f'False Positives: {fp}')\n",
    "print(f'True Negatives: {tn}')\n",
    "print(f'False Negatives: {fn}')\n",
    "\n",
    "print(f'True Positive Rate: { (tp / (tp + fn))}')\n",
    "print(f'Specificity: { (tn / (tn + fp))}')\n",
    "print(f'False Positive Rate: { (fp / (fp + tn))}')"
   ]
  },
  {
   "cell_type": "markdown",
   "metadata": {},
   "source": [
    "### SVC Model"
   ]
  },
  {
   "cell_type": "code",
   "execution_count": 21,
   "metadata": {},
   "outputs": [],
   "source": [
    "#defining an additional function\n",
    "def add_feature(X, feature_to_add):\n",
    "    \"\"\"\n",
    "    Returns sparse feature matrix with added feature.\n",
    "    feature_to_add can also be a list of features.\n",
    "    \"\"\"\n",
    "    from scipy.sparse import csr_matrix, hstack\n",
    "    return hstack([X, csr_matrix(feature_to_add).T], 'csr')"
   ]
  },
  {
   "cell_type": "code",
   "execution_count": 22,
   "metadata": {},
   "outputs": [],
   "source": [
    "#fit and transfor x_train and X_test\n",
    "vectorizer = TfidfVectorizer(min_df=5)\n",
    "\n",
    "X_train_transformed = vectorizer.fit_transform(X_train)\n",
    "X_train_transformed_with_length = add_feature(X_train_transformed, X_train.str.len())\n",
    "\n",
    "X_test_transformed = vectorizer.transform(X_test)\n",
    "X_test_transformed_with_length = add_feature(X_test_transformed, X_test.str.len())\n",
    "        \n"
   ]
  },
  {
   "cell_type": "code",
   "execution_count": 23,
   "metadata": {},
   "outputs": [
    {
     "data": {
      "text/plain": [
       "SVC(C=10000, break_ties=False, cache_size=200, class_weight=None, coef0=0.0,\n",
       "    decision_function_shape='ovr', degree=3, gamma='scale', kernel='rbf',\n",
       "    max_iter=-1, probability=False, random_state=None, shrinking=True,\n",
       "    tol=0.001, verbose=False)"
      ]
     },
     "execution_count": 23,
     "metadata": {},
     "output_type": "execute_result"
    }
   ],
   "source": [
    "# SVM creation\n",
    "clf = SVC(C=10000)\n",
    "\n",
    "clf.fit(X_train_transformed_with_length, y_train)"
   ]
  },
  {
   "cell_type": "code",
   "execution_count": 24,
   "metadata": {},
   "outputs": [],
   "source": [
    "y_predicted = clf.predict(X_test_transformed_with_length)"
   ]
  },
  {
   "cell_type": "code",
   "execution_count": 25,
   "metadata": {},
   "outputs": [
    {
     "data": {
      "text/plain": [
       "0.97422863173865"
      ]
     },
     "execution_count": 25,
     "metadata": {},
     "output_type": "execute_result"
    }
   ],
   "source": [
    "roc_auc_score(y_test, y_predicted)"
   ]
  },
  {
   "cell_type": "code",
   "execution_count": 26,
   "metadata": {
    "scrolled": true
   },
   "outputs": [
    {
     "name": "stdout",
     "output_type": "stream",
     "text": [
      "             Predicted Spam  Predicted Ham\n",
      "Actual Spam            1186              3\n",
      "Actual Ham               10            194\n",
      "\n",
      "True Positives: 194\n",
      "False Positives: 3\n",
      "True Negatives: 1186\n",
      "False Negatives: 10\n",
      "True Positive Rate: 0.9509803921568627\n",
      "Specificity: 0.9974768713204374\n",
      "False Positive Rate: 0.002523128679562658\n"
     ]
    }
   ],
   "source": [
    "#confusion matrix\n",
    "from sklearn.metrics import confusion_matrix\n",
    "tn, fp, fn, tp = confusion_matrix(y_test, y_predicted).ravel()\n",
    "print(pd.DataFrame(confusion_matrix(y_test, y_predicted),\n",
    "             columns=['Predicted Spam', \"Predicted Ham\"], index=['Actual Spam', 'Actual Ham']))\n",
    "print(f'\\nTrue Positives: {tp}')\n",
    "print(f'False Positives: {fp}')\n",
    "print(f'True Negatives: {tn}')\n",
    "print(f'False Negatives: {fn}')\n",
    "\n",
    "\n",
    "print(f'True Positive Rate: { (tp / (tp + fn))}')\n",
    "print(f'Specificity: { (tn / (tn + fp))}')\n",
    "print(f'False Positive Rate: { (fp / (fp + tn))}')"
   ]
  },
  {
   "cell_type": "markdown",
   "metadata": {},
   "source": [
    "### Logistic Regression Model with ngrams"
   ]
  },
  {
   "cell_type": "code",
   "execution_count": 27,
   "metadata": {},
   "outputs": [
    {
     "name": "stderr",
     "output_type": "stream",
     "text": [
      "C:\\Users\\Dehan\\anaconda3\\lib\\site-packages\\sklearn\\linear_model\\_logistic.py:940: ConvergenceWarning: lbfgs failed to converge (status=1):\n",
      "STOP: TOTAL NO. of ITERATIONS REACHED LIMIT.\n",
      "\n",
      "Increase the number of iterations (max_iter) or scale the data as shown in:\n",
      "    https://scikit-learn.org/stable/modules/preprocessing.html\n",
      "Please also refer to the documentation for alternative solver options:\n",
      "    https://scikit-learn.org/stable/modules/linear_model.html#logistic-regression\n",
      "  extra_warning_msg=_LOGISTIC_SOLVER_CONVERGENCE_MSG)\n"
     ]
    },
    {
     "data": {
      "text/plain": [
       "0.976679612130807"
      ]
     },
     "execution_count": 27,
     "metadata": {},
     "output_type": "execute_result"
    }
   ],
   "source": [
    "from sklearn.linear_model import LogisticRegression\n",
    "\n",
    "vectorizer = TfidfVectorizer(min_df=5, ngram_range=[1,3])\n",
    "\n",
    "X_train_transformed = vectorizer.fit_transform(X_train)\n",
    "X_train_transformed_with_length = add_feature(X_train_transformed, [X_train.str.len(),\n",
    "                                                                    X_train.apply(lambda x: len(''.join([a for a in x if a.isdigit()])))])\n",
    "\n",
    "X_test_transformed = vectorizer.transform(X_test)\n",
    "X_test_transformed_with_length = add_feature(X_test_transformed, [X_test.str.len(),\n",
    "                                                                  X_test.apply(lambda x: len(''.join([a for a in x if a.isdigit()])))])\n",
    "\n",
    "clf = LogisticRegression(C=100)\n",
    "\n",
    "clf.fit(X_train_transformed_with_length, y_train)\n",
    "\n",
    "y_predicted = clf.predict(X_test_transformed_with_length)\n",
    "\n",
    "roc_auc_score(y_test, y_predicted)"
   ]
  },
  {
   "cell_type": "code",
   "execution_count": 28,
   "metadata": {},
   "outputs": [
    {
     "name": "stdout",
     "output_type": "stream",
     "text": [
      "             Predicted Spam  Predicted Ham\n",
      "Actual Spam            1186              3\n",
      "Actual Ham                9            195\n",
      "\n",
      "True Positives: 195\n",
      "False Positives: 3\n",
      "True Negatives: 1186\n",
      "False Negatives: 9\n",
      "\n",
      "True Positive Rate: 0.9558823529411765\n",
      "Specificity: 0.9974768713204374\n",
      "False Positive Rate: 0.002523128679562658\n"
     ]
    }
   ],
   "source": [
    "#confusion matrix\n",
    "from sklearn.metrics import confusion_matrix\n",
    "tn, fp, fn, tp = confusion_matrix(y_test, y_predicted).ravel()\n",
    "print(pd.DataFrame(confusion_matrix(y_test, y_predicted),\n",
    "             columns=['Predicted Spam', \"Predicted Ham\"], index=['Actual Spam', 'Actual Ham']))\n",
    "print(f'\\nTrue Positives: {tp}')\n",
    "print(f'False Positives: {fp}')\n",
    "print(f'True Negatives: {tn}')\n",
    "print(f'False Negatives: {fn}')\n",
    "\n",
    "\n",
    "print(f'\\nTrue Positive Rate: { (tp / (tp + fn))}')\n",
    "print(f'Specificity: { (tn / (tn + fp))}')\n",
    "print(f'False Positive Rate: { (fp / (fp + tn))}')"
   ]
  },
  {
   "cell_type": "markdown",
   "metadata": {},
   "source": [
    "# Model Comparison\n",
    "adapted from https://medium.com/python-pandemonium/data-visualization-in-python-bar-graph-in-matplotlib-f1738602e9c4\n",
    "and https://stackoverflow.com/questions/45946970/displaying-of-values-on-barchart"
   ]
  },
  {
   "cell_type": "code",
   "execution_count": 29,
   "metadata": {},
   "outputs": [
    {
     "data": {
      "image/png": "[encoded data removed]",
      "text/plain": [
       "<Figure size 432x288 with 1 Axes>"
      ]
     },
     "metadata": {
      "needs_background": "light"
     },
     "output_type": "display_data"
    }
   ],
   "source": [
    "import seaborn as sb\n",
    "import matplotlib.pyplot as plt\n",
    "\n",
    "label = ['MNNB 1', 'MNNB 2', 'SVC', 'Logistic']\n",
    "auclist = [0.9615532083312719, 0.9166666666666667, 0.97422863173865, 0.976679612130807]\n",
    "\n",
    "#generates an array of length label and use it on the X-axis\n",
    "def plot_bar_x():\n",
    "    # this is for plotting purpose\n",
    "    index = np.arange(len(label))\n",
    "    clrs = ['grey' if (x < max(auclist)) else 'red' for x in auclist ]\n",
    "    g=sb.barplot(x=index, y=auclist, palette=clrs) # color=clrs)   \n",
    "    plt.xlabel('Model type', fontsize=10)\n",
    "    plt.ylabel('AUC score', fontsize=10)\n",
    "    plt.xticks(index, label, fontsize=10, rotation=30)\n",
    "    plt.title('AUC score for each fitted model')\n",
    "    ax=g\n",
    "    for p in ax.patches:\n",
    "             ax.annotate(\"%.2f\" % p.get_height(), (p.get_x() + p.get_width() / 2., p.get_height()),\n",
    "                 ha='center', va='center', fontsize=11, color='gray', xytext=(0, 20),\n",
    "                 textcoords='offset points')\n",
    "    g.set_ylim(0,1.25) #To make space for the annotations\n",
    "\n",
    "plot_bar_x()"
   ]
  }
 ],
 "metadata": {
  "kernelspec": {
   "display_name": "Python 3",
   "language": "python",
   "name": "python3"
  },
  "language_info": {
   "codemirror_mode": {
    "name": "ipython",
    "version": 3
   },
   "file_extension": ".py",
   "mimetype": "text/x-python",
   "name": "python",
   "nbconvert_exporter": "python",
   "pygments_lexer": "ipython3",
   "version": "3.7.6"
  }
 },
 "nbformat": 4,
 "nbformat_minor": 4
}
